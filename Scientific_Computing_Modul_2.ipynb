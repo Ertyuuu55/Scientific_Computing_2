{
  "nbformat": 4,
  "nbformat_minor": 0,
  "metadata": {
    "colab": {
      "provenance": [],
      "authorship_tag": "ABX9TyMt2BcTkgM4XrqLgjkjMTLB",
      "include_colab_link": true
    },
    "kernelspec": {
      "name": "python3",
      "display_name": "Python 3"
    },
    "language_info": {
      "name": "python"
    }
  },
  "cells": [
    {
      "cell_type": "markdown",
      "metadata": {
        "id": "view-in-github",
        "colab_type": "text"
      },
      "source": [
        "<a href=\"https://colab.research.google.com/github/Ertyuuu55/Scientific_Computing_2/blob/main/Scientific_Computing_Modul_2.ipynb\" target=\"_parent\"><img src=\"https://colab.research.google.com/assets/colab-badge.svg\" alt=\"Open In Colab\"/></a>"
      ]
    },
    {
      "cell_type": "code",
      "execution_count": 69,
      "metadata": {
        "colab": {
          "base_uri": "https://localhost:8080/"
        },
        "id": "3BykBaSISGcI",
        "outputId": "4696e138-586a-40dc-e43c-2b2e82b3038c"
      },
      "outputs": [
        {
          "output_type": "stream",
          "name": "stdout",
          "text": [
            "NOT diagonally dominant, matrix cannot converge, proof: \n",
            "Iteration results\n",
            "k, x,      y,      z\n",
            "1, 0.0000, 6.0000, 2.0000\n",
            "2, -3.0000, -3.0000, 29.0000\n",
            "3, 24.0000, 78.0000, -214.0000\n",
            "4, -219.0000, -651.0000, 1973.0000\n",
            "5, 1968.0000, 5910.0000, -17710.0000\n",
            "6, -17715.0000, -53139.0000, 159437.0000\n",
            "7, 159432.0000, 478302.0000, -1434886.0000\n",
            "8, -1434891.0000, -4304667.0000, 12914021.0000\n",
            "9, 12914016.0000, 38742054.0000, -116226142.0000\n",
            "10, -116226147.0000, -348678435.0000, 1046035325.0000\n",
            "11, 1046035320.0000, 3138105966.0000, -9414317878.0000\n",
            "12, -9414317883.0000, -28242953643.0000, 84728860949.0000\n",
            "13, 84728860944.0000, 254186582838.0000, -762559748494.0000\n",
            "14, -762559748499.0000, -2287679245491.0000, 6863037736493.0000\n",
            "15, 6863037736488.0000, 20589113209470.0000, -61767339628390.0000\n",
            "16, -61767339628395.0000, -185302018885179.0000, 555906056655557.0000\n",
            "17, 555906056655552.0000, 1667718169966662.0000, -5003154509899966.0000\n",
            "18, -5003154509899971.0000, -15009463529699908.0000, 45028390589099744.0000\n",
            "19, 45028390589099744.0000, 135085171767299232.0000, -405255515301897664.0000\n",
            "20, -405255515301897728.0000, -1215766545905693184.0000, 3647299637717079552.0000\n",
            "21, 3647299637717079552.0000, 10941898913151238144.0000, -32825696739453714432.0000\n",
            "22, -32825696739453714432.0000, -98477090218361143296.0000, 295431270655083413504.0000\n",
            "23, 295431270655083413504.0000, 886293811965250240512.0000, -2658881435895750721536.0000\n",
            "24, -2658881435895750721536.0000, -7976644307687252688896.0000, 23929932923061755969536.0000\n",
            "25, 23929932923061755969536.0000, 71789798769185267908608.0000, -215369396307555786948608.0000\n",
            "26, -215369396307555786948608.0000, -646108188922667293736960.0000, 1938324566768001881210880.0000\n",
            "27, 1938324566768001881210880.0000, 5814973700304005106761728.0000, -17444921100912015320285184.0000\n",
            "28, -17444921100912015320285184.0000, -52334763302736048108339200.0000, 157004289908208135735083008.0000\n",
            "29, 157004289908208135735083008.0000, 471012869724624407205249024.0000, -1413038609173873084176793600.0000\n",
            "30, -1413038609173873084176793600.0000, -4239115827521619252530380800.0000, 12717347482564856658079514624.0000\n",
            "31, 12717347482564856658079514624.0000, 38152042447694569974238543872.0000, -114456127343083701126622609408.0000\n",
            "32, -114456127343083701126622609408.0000, -343368382029251103379867828224.0000, 1030105146087753310139603484672.0000\n",
            "33, 1030105146087753310139603484672.0000, 3090315438263259789681322098688.0000, -9270946314789779369043966296064.0000\n",
            "34, -9270946314789779369043966296064.0000, -27812838944369335855332085202944.0000, 83438516833107998558797000867840.0000\n",
            "35, 83438516833107998558797000867840.0000, 250315550499323995676391002603520.0000, -750946651497972023057970026774528.0000\n",
            "36, -750946651497972023057970026774528.0000, -2252839954493916069173910080323584.0000, 6758519863481748207521730240970752.0000\n",
            "37, 6758519863481748207521730240970752.0000, 20275559590445245775486695329759232.0000, -60826678771335737326460085989277696.0000\n",
            "38, -60826678771335737326460085989277696.0000, -182480036314007211979380257967833088.0000, 547440108942021672831628921322602496.0000\n",
            "39, 547440108942021672831628921322602496.0000, 1642320326826064870920934174291394560.0000, -4926960980478194612762802522874183680.0000\n",
            "40, -4926960980478194612762802522874183680.0000, -14780882941434584428584217927328202752.0000, 44342648824303758008119136651629821952.0000\n",
            "41, 44342648824303758008119136651629821952.0000, 133027946472911274024357409954889465856.0000, -399083839418733822073072229864668397568.0000\n",
            "42, -399083839418733822073072229864668397568.0000, -1197251518256201466219216689594005192704.0000, 3591754554768604549773377520610662416384.0000\n",
            "43, 3591754554768604549773377520610662416384.0000, 10775263664305813044857222754517399896064.0000, -32325790992917439134571668263552199688192.0000\n",
            "44, -32325790992917439134571668263552199688192.0000, -96977372978752317403715004790656599064576.0000, 290932118936256952211145014371969797193728.0000\n",
            "45, 290932118936256952211145014371969797193728.0000, 872796356808770856633435043115909391581184.0000, -2618389070426312724642810040020262537134080.0000\n",
            "46, -2618389070426312724642810040020262537134080.0000, -7855167211278938173928430120060787611402240.0000, 23565501633836814521785290360182362834206720.0000\n",
            "47, 23565501633836814521785290360182362834206720.0000, 70696504901510443565355871080547088502620160.0000, -212089514704531340599587927524683464700854272.0000\n",
            "48, -212089514704531340599587927524683464700854272.0000, -636268544113594021798763782574050394102562816.0000, 1908805632340782144624453861986488775851638784.0000\n",
            "49, 1908805632340782144624453861986488775851638784.0000, 5726416897022346750786011643016816701730717696.0000, -17179250691067040252358034929050450105192153088.0000\n",
            "Not converge, increase the # of iterations\n"
          ]
        }
      ],
      "source": [
        "#Soal nomor 1\n",
        "#Menggunakan Gauss Seidel\n",
        "import numpy as np\n",
        "A = [[2, 3, -1], [1, -1, 2], [3, 2, 1]]\n",
        "\n",
        "diag = np.diag(np.abs(A))\n",
        "\n",
        "off_diag = np.sum(np.abs(A), axis=1) - diag\n",
        "\n",
        "if np.all(diag > off_diag):\n",
        "    print('matrix is diagonally dominant')\n",
        "else:\n",
        "    print('NOT diagonally dominant, matrix cannot converge, proof: ')\n",
        "\n",
        "x = 5\n",
        "y = 5\n",
        "z = 5\n",
        "epsilon = 0.001\n",
        "converged = False\n",
        "\n",
        "x_old = np.array([x, y, z])\n",
        "\n",
        "print('Iteration results')\n",
        "print('k, x,      y,      z')\n",
        "for k in range(1, 50):\n",
        "  x = (10 - 3*y + z)/2\n",
        "  y = (-4 + x + 2*z)\n",
        "  z = (14 - 3*x - 2*y)\n",
        "  sle = np.array([x, y, z])\n",
        "\n",
        "  dx = np.sqrt(np.dot(sle-x_old, sle-x_old))\n",
        "\n",
        "  print(\"%d, %.4f, %.4f, %.4f\"%(k, x, y, z))\n",
        "  if dx < epsilon:\n",
        "    converged = True\n",
        "    print('Converged!')\n",
        "    break\n",
        "\n",
        "  x_old = sle\n",
        "\n",
        "if not converged:\n",
        "  print('Not converge, increase the # of iterations')"
      ]
    },
    {
      "cell_type": "code",
      "source": [
        "#Menggunakan Library Numpy\n",
        "import numpy as np\n",
        "\n",
        "A = ([[2, 3, -1],\n",
        "     [1, -1, 2],\n",
        "     [3, 2, 1]])\n",
        "b = np.array([10, 4, 14])\n",
        "\n",
        "x = np.linalg.solve(A, b)\n",
        "print(x)"
      ],
      "metadata": {
        "colab": {
          "base_uri": "https://localhost:8080/"
        },
        "id": "qL4cTLX_Tl88",
        "outputId": "a9700008-db98-4a37-ef1c-89eb75dc434d"
      },
      "execution_count": 19,
      "outputs": [
        {
          "output_type": "stream",
          "name": "stdout",
          "text": [
            "[0.65 4.15 3.75]\n"
          ]
        }
      ]
    },
    {
      "cell_type": "code",
      "source": [
        "#Soal nomor 2\n",
        "#Menggunakan Gauss Seidel\n",
        "import numpy as np\n",
        "A = [[3, -0.1, -0.2], [0.1, 7, -0.3], [0.3, -0.2, 10]]\n",
        "\n",
        "diag = np.diag(np.abs(A))\n",
        "\n",
        "off_diag = np.sum(np.abs(A), axis=1) - diag\n",
        "\n",
        "if np.all(diag > off_diag):\n",
        "    print('matrix is diagonally dominant')\n",
        "else:\n",
        "    print('NOT diagonally dominant')\n",
        "\n",
        "x = 1\n",
        "y = 2\n",
        "z = 3\n",
        "epsilon = 0.001\n",
        "converged = False\n",
        "\n",
        "x_old = np.array([x, y, z])\n",
        "\n",
        "print('Iteration results')\n",
        "print('k, x,      y,       z')\n",
        "for k in range(1, 50):\n",
        "  x = (7.85 + 0.1*y + 0.2*z)/3\n",
        "  y = (-19.3 - 0.1*x + 0.3*z)/7\n",
        "  z = (71.4 - 0.3*x + 0.2*y)/10\n",
        "  sle = np.array([x, y, z])\n",
        "\n",
        "  dx = np.sqrt(np.dot(sle-x_old, sle-x_old))\n",
        "\n",
        "  print(\"%d, %.4f, %.4f, %.4f\"%(k, x, y, z))\n",
        "  if dx < epsilon:\n",
        "    converged = True\n",
        "    print('Converged!')\n",
        "    break\n",
        "\n",
        "  x_old = sle\n",
        "\n",
        "if not converged:\n",
        "  print('Not converge, increase the # of iterations')\n"
      ],
      "metadata": {
        "colab": {
          "base_uri": "https://localhost:8080/"
        },
        "id": "EJ7WbDRxWOq0",
        "outputId": "390541fd-9901-45d9-a067-9c2b0e32dbad"
      },
      "execution_count": 65,
      "outputs": [
        {
          "output_type": "stream",
          "name": "stdout",
          "text": [
            "matrix is diagonally dominant\n",
            "Iteration results\n",
            "k, x,      y,       z\n",
            "1, 2.8833, -2.6698, 7.0001\n",
            "2, 2.9943, -2.4999, 7.0002\n",
            "3, 3.0000, -2.5000, 7.0000\n",
            "4, 3.0000, -2.5000, 7.0000\n",
            "Converged!\n"
          ]
        }
      ]
    },
    {
      "cell_type": "code",
      "source": [
        "#Menggunakan Library Numpy\n",
        "\n",
        "import numpy as np\n",
        "\n",
        "A = ([[3, -0.1, -0.2],\n",
        "      [0.1, 7, -0.3],\n",
        "      [0.3, -0.2, 10]])\n",
        "\n",
        "b = ([7.85, -19.3, 71.4])\n",
        "\n",
        "A_inv = np.linalg.inv(A)\n",
        "x = np.dot(A_inv, b)\n",
        "print(x)"
      ],
      "metadata": {
        "colab": {
          "base_uri": "https://localhost:8080/"
        },
        "id": "4vic8CLbY_7Z",
        "outputId": "fc55cb32-0f7d-4466-c1fc-e7a4687b4d26"
      },
      "execution_count": 22,
      "outputs": [
        {
          "output_type": "stream",
          "name": "stdout",
          "text": [
            "[ 3.  -2.5  7. ]\n"
          ]
        }
      ]
    },
    {
      "cell_type": "code",
      "source": [
        "#Soal Nomor 3a\n",
        "import numpy as np\n",
        "from scipy import optimize\n",
        "import matplotlib.pyplot as plt\n",
        "\n",
        "x = np.array([5, 4, 6, 7, 5])\n",
        "y = np.array([10, 8, 12, 14, 10])\n",
        "\n",
        "A = np.vstack([x, np.ones(len(x))]).T\n",
        "\n",
        "a, b = np.linalg.lstsq(A, y, rcond=None)[0]\n",
        "\n",
        "print(f\"Nilai a : {a:.2f}\")\n",
        "print(f\"Nilai b : {b:.2f}\")\n",
        "print(f\"Hasil Regresi Linier adalah y = {a:.2f}x + {b:.2f}\")"
      ],
      "metadata": {
        "colab": {
          "base_uri": "https://localhost:8080/"
        },
        "id": "bwkEwG_rZWjk",
        "outputId": "88d2e818-94eb-4ace-b9b5-ed69ea7b2c9a"
      },
      "execution_count": 60,
      "outputs": [
        {
          "output_type": "stream",
          "name": "stdout",
          "text": [
            "Nilai a : 2.00\n",
            "Nilai b : 0.00\n",
            "Hasil Regresi Linier adalah y = 2.00x + 0.00\n"
          ]
        }
      ]
    },
    {
      "cell_type": "code",
      "source": [
        "#Soal Nomor 3b\n",
        "import matplotlib.pyplot as plt\n",
        "\n",
        "plt.scatter(x, y, color='red', label='Data')\n",
        "\n",
        "x_line = np.linspace(min(x), max(x), 100)\n",
        "y_line = a * x_line + b\n",
        "\n",
        "plt.plot(x_line, y_line, color='blue', label=f'Regresi Linear: y = {a:.2f}x + {b:.2f}')\n",
        "\n",
        "plt.xlabel('x')\n",
        "plt.ylabel('y')\n",
        "plt.grid()\n",
        "plt.legend()\n",
        "plt.show()\n",
        "\n"
      ],
      "metadata": {
        "colab": {
          "base_uri": "https://localhost:8080/",
          "height": 449
        },
        "id": "CGLNbpvEgKmg",
        "outputId": "c8dfe761-eebb-461c-df1a-6c63ef00f922"
      },
      "execution_count": 61,
      "outputs": [
        {
          "output_type": "display_data",
          "data": {
            "text/plain": [
              "<Figure size 640x480 with 1 Axes>"
            ],
            "image/png": "[encoded data removed]"
          },
          "metadata": {}
        }
      ]
    }
  ]
}